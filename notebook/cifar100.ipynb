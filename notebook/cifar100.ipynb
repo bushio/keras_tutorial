{
  "nbformat": 4,
  "nbformat_minor": 0,
  "metadata": {
    "colab": {
      "name": "cifar100.ipynb",
      "provenance": [],
      "collapsed_sections": [],
      "toc_visible": true,
      "authorship_tag": "ABX9TyP7vyHEjy12WY0INy4SzpD7",
      "include_colab_link": true
    },
    "kernelspec": {
      "name": "python3",
      "display_name": "Python 3"
    },
    "language_info": {
      "name": "python"
    }
  },
  "cells": [
    {
      "cell_type": "markdown",
      "metadata": {
        "id": "view-in-github",
        "colab_type": "text"
      },
      "source": [
        "<a href=\"https://colab.research.google.com/github/bushio/keras_tutorial/blob/main/notebook/cifar100.ipynb\" target=\"_parent\"><img src=\"https://colab.research.google.com/assets/colab-badge.svg\" alt=\"Open In Colab\"/></a>"
      ]
    },
    {
      "cell_type": "markdown",
      "source": [
        "# [CIFAR100](https://www.cs.toronto.edu/~kriz/cifar.html)\n",
        "- Kerasの[CIFAR100](https://keras.io/ja/datasets/)について\n",
        "\n",
        "\n"
      ],
      "metadata": {
        "id": "Kgxk2Jpv4PJC"
      }
    },
    {
      "cell_type": "code",
      "execution_count": 5,
      "metadata": {
        "id": "exiBMU491WhD"
      },
      "outputs": [],
      "source": [
        "import tensorflow as tf\n",
        "from tensorflow.keras.datasets import cifar100\n",
        "from tensorflow.keras.models import Sequential\n",
        "from tensorflow.keras.layers import Conv2D,MaxPooling2D\n",
        "from tensorflow.keras.layers import Dense, Dropout, InputLayer,Flatten\n",
        "from tensorflow.keras.optimizers import SGD\n",
        "import numpy as np"
      ]
    },
    {
      "cell_type": "markdown",
      "source": [
        "#入力パラメータの設定"
      ],
      "metadata": {
        "id": "VUzyDGjSxdmW"
      }
    },
    {
      "cell_type": "code",
      "source": [
        "input_heihgt = 32\n",
        "input_width = 32\n",
        "input_channel = 3"
      ],
      "metadata": {
        "id": "JlfYt_NtveXY"
      },
      "execution_count": 42,
      "outputs": []
    },
    {
      "cell_type": "markdown",
      "source": [
        "#データの準備"
      ],
      "metadata": {
        "id": "3VzVXUM8xaF4"
      }
    },
    {
      "cell_type": "code",
      "source": [
        "(X_train, y_train), (X_test, y_test) = cifar100.load_data()\n",
        "x_train  = X_train.astype('float32')\n",
        "x_test   = X_test.astype('float32')\n",
        "x_train /= 255\n",
        "x_test  /= 255\n",
        "y_train  = tf.keras.utils.to_categorical(y_train, 100)\n",
        "y_test   = tf.keras.utils.to_categorical(y_test, 100)"
      ],
      "metadata": {
        "id": "_vEjvrI84zoi"
      },
      "execution_count": 43,
      "outputs": []
    },
    {
      "cell_type": "markdown",
      "source": [
        "#モデルの定義"
      ],
      "metadata": {
        "id": "idKzFqefxlUV"
      }
    },
    {
      "cell_type": "code",
      "source": [
        "def mnist_cnn(input_shape=(28,28,1)):\n",
        "  model = Sequential()\n",
        "  model.add(Conv2D(32, kernel_size=(3, 3), activation='relu', input_shape=input_shape))\n",
        "  model.add(Conv2D(64, (3, 3), activation='relu'))\n",
        "  model.add(MaxPooling2D(pool_size=(2, 2)))\n",
        "  model.add(Dropout(0.25))\n",
        "  model.add(Flatten())\n",
        "  model.add(Dense(128, activation='relu'))\n",
        "  model.add(Dropout(0.5))\n",
        "  model.add(Dense(100, activation='softmax'))\n",
        "  return model \n",
        "\n",
        "model = mnist_cnn((input_heihgt,input_width,input_channel))\n",
        "model.summary()"
      ],
      "metadata": {
        "id": "N5YbnvinrXnP",
        "colab": {
          "base_uri": "https://localhost:8080/"
        },
        "outputId": "3e43550b-de26-4590-ebae-c9e820588762"
      },
      "execution_count": 48,
      "outputs": [
        {
          "output_type": "stream",
          "name": "stdout",
          "text": [
            "Model: \"sequential_2\"\n",
            "_________________________________________________________________\n",
            " Layer (type)                Output Shape              Param #   \n",
            "=================================================================\n",
            " conv2d_4 (Conv2D)           (None, 30, 30, 32)        896       \n",
            "                                                                 \n",
            " conv2d_5 (Conv2D)           (None, 28, 28, 64)        18496     \n",
            "                                                                 \n",
            " max_pooling2d_2 (MaxPooling  (None, 14, 14, 64)       0         \n",
            " 2D)                                                             \n",
            "                                                                 \n",
            " dropout_4 (Dropout)         (None, 14, 14, 64)        0         \n",
            "                                                                 \n",
            " flatten_2 (Flatten)         (None, 12544)             0         \n",
            "                                                                 \n",
            " dense_4 (Dense)             (None, 128)               1605760   \n",
            "                                                                 \n",
            " dropout_5 (Dropout)         (None, 128)               0         \n",
            "                                                                 \n",
            " dense_5 (Dense)             (None, 100)               12900     \n",
            "                                                                 \n",
            "=================================================================\n",
            "Total params: 1,638,052\n",
            "Trainable params: 1,638,052\n",
            "Non-trainable params: 0\n",
            "_________________________________________________________________\n"
          ]
        }
      ]
    },
    {
      "cell_type": "markdown",
      "source": [
        "#学習パラメータの設定\n",
        "- epochs: エポック数（学習データを入力する回数)\n",
        "- batch_size: バッチサイズ\n",
        "- loss: [誤差関数](https://keras.io/ja/losses/)\n",
        "- optimizer: [最適化アルゴリズム](https://keras.io/ja/optimizers/)　\n",
        "- metrics: [評価関数](https://keras.io/ja/metrics/)"
      ],
      "metadata": {
        "id": "tXcmsyevy2Qb"
      }
    },
    {
      "cell_type": "code",
      "source": [
        "epochs = 100\n",
        "batch_size = 128\n",
        "loss = 'categorical_crossentropy'\n",
        "optimizer = 'rmsprop'\n",
        "metrics = 'accuracy'"
      ],
      "metadata": {
        "id": "mniVxkGnv51R"
      },
      "execution_count": 52,
      "outputs": []
    },
    {
      "cell_type": "markdown",
      "source": [
        "#コールバック\n",
        "- [コールバック関数](https://keras.io/ja/callbacks/)"
      ],
      "metadata": {
        "id": "CPsZgrhl1Fsu"
      }
    },
    {
      "cell_type": "code",
      "source": [
        "eary_stopping = tf.keras.callbacks.EarlyStopping(monitor='val_loss', min_delta=0, patience=0, verbose=0, mode='auto')\n",
        "callbacks=[eary_stopping]"
      ],
      "metadata": {
        "id": "mtC3MJ7i1B_Q"
      },
      "execution_count": 53,
      "outputs": []
    },
    {
      "cell_type": "markdown",
      "source": [
        "#学習の実行\n",
        "\n",
        "\n"
      ],
      "metadata": {
        "id": "uxindg_-0RvT"
      }
    },
    {
      "cell_type": "code",
      "source": [
        "model.compile(loss=loss, optimizer=optimizer, metrics=[metrics])\n",
        "history = model.fit(x_train, y_train, batch_size=batch_size, epochs=epochs, verbose=1, validation_data=(x_test, y_test),callbacks=callbacks)"
      ],
      "metadata": {
        "id": "PJ09YBMDzPtv",
        "colab": {
          "base_uri": "https://localhost:8080/"
        },
        "outputId": "5fccd0e7-ba1a-4ef3-e997-82205a97c15b"
      },
      "execution_count": null,
      "outputs": [
        {
          "output_type": "stream",
          "name": "stdout",
          "text": [
            "Epoch 1/100\n",
            "161/391 [===========>..................] - ETA: 1:06 - loss: 3.5869 - accuracy: 0.1555"
          ]
        }
      ]
    },
    {
      "cell_type": "markdown",
      "source": [
        "# 学習結果の検証"
      ],
      "metadata": {
        "id": "FgEISmGw0LaD"
      }
    },
    {
      "cell_type": "code",
      "source": [
        "score = model.evaluate(x_test, y_test, verbose=1)\n",
        "print('Test loss:', score[0])\n",
        "print('Test accuracy:', score[1])"
      ],
      "metadata": {
        "id": "RV-9P-Fgzl5g"
      },
      "execution_count": null,
      "outputs": []
    },
    {
      "cell_type": "code",
      "source": [
        "%matplotlib inline\n",
        "import matplotlib.pyplot as plt"
      ],
      "metadata": {
        "id": "P_TuNRVxTzKe"
      },
      "execution_count": 11,
      "outputs": []
    },
    {
      "cell_type": "code",
      "source": [
        "CIFAR100_LABELS_LIST = [\n",
        "                        'apple', 'aquarium_fish', 'baby', 'bear', 'beaver', 'bed', 'bee', 'beetle',\n",
        "                        'bicycle', 'bottle', 'bowl', 'boy', 'bridge', 'bus', 'butterfly', 'camel',\n",
        "                        'can', 'castle', 'caterpillar', 'cattle', 'chair', 'chimpanzee', 'clock',\n",
        "                        'cloud', 'cockroach', 'couch', 'crab', 'crocodile', 'cup', 'dinosaur',\n",
        "                        'dolphin', 'elephant', 'flatfish', 'forest', 'fox', 'girl', 'hamster',\n",
        "                        'house', 'kangaroo', 'keyboard', 'lamp', 'lawn_mower', 'leopard', 'lion',\n",
        "                        'lizard', 'lobster', 'man', 'maple_tree', 'motorcycle', 'mountain', 'mouse',\n",
        "                        'mushroom', 'oak_tree', 'orange', 'orchid', 'otter', 'palm_tree', 'pear',\n",
        "                        'pickup_truck', 'pine_tree', 'plain', 'plate', 'poppy', 'porcupine',\n",
        "                        'possum', 'rabbit', 'raccoon', 'ray', 'road', 'rocket', 'rose',\n",
        "                        'sea', 'seal', 'shark', 'shrew', 'skunk', 'skyscraper', 'snail', 'snake',\n",
        "                        'spider', 'squirrel', 'streetcar', 'sunflower', 'sweet_pepper', 'table',\n",
        "                        'tank', 'telephone', 'television', 'tiger', 'tractor', 'train', 'trout',\n",
        "                        'tulip', 'turtle', 'wardrobe', 'whale', 'willow_tree', 'wolf', 'woman',\n",
        "                        'worm'\n",
        "                        ]"
      ],
      "metadata": {
        "id": "Sr6vhpgeYsnQ"
      },
      "execution_count": 34,
      "outputs": []
    },
    {
      "cell_type": "code",
      "source": [
        "ind=np.random.randint(0,10000)\n",
        "test_img = X_test[ind]\n",
        "label=np.argmax(y_test[ind])\n",
        "print(CIFAR100_LABELS_LIST[label])\n",
        "plt.imshow(test_img)\n",
        "predictions = model.predict([test_img])\n",
        "\n",
        "print(\"predicted label: {}\".format(CIFAR100_LABELS_LIST[predictions]))"
      ],
      "metadata": {
        "id": "QVV7orUcVqkZ",
        "outputId": "f67f4e4f-fae9-4b16-e35b-165cb88ec64d",
        "colab": {
          "base_uri": "https://localhost:8080/",
          "height": 302
        }
      },
      "execution_count": 35,
      "outputs": [
        {
          "output_type": "stream",
          "name": "stdout",
          "text": [
            "lion\n"
          ]
        },
        {
          "output_type": "execute_result",
          "data": {
            "text/plain": [
              "<matplotlib.image.AxesImage at 0x7fadf811eb50>"
            ]
          },
          "metadata": {},
          "execution_count": 35
        },
        {
          "output_type": "display_data",
          "data": {
            "text/plain": [
              "<Figure size 432x288 with 1 Axes>"
            ],
            "image/png": "[encoded data removed]"
          },
          "metadata": {
            "needs_background": "light"
          }
        }
      ]
    },
    {
      "cell_type": "code",
      "source": [
        "test_image = 10\n",
        "\n"
      ],
      "metadata": {
        "id": "jrmRgL0PUNgx"
      },
      "execution_count": null,
      "outputs": []
    }
  ]
}