{
  "nbformat": 4,
  "nbformat_minor": 0,
  "metadata": {
    "colab": {
      "name": "cifar100.ipynb",
      "provenance": [],
      "collapsed_sections": [],
      "toc_visible": true,
      "authorship_tag": "ABX9TyNPF5Hoijqp/k3cdLgfC5gV",
      "include_colab_link": true
    },
    "kernelspec": {
      "name": "python3",
      "display_name": "Python 3"
    },
    "language_info": {
      "name": "python"
    },
    "accelerator": "GPU",
    "gpuClass": "standard"
  },
  "cells": [
    {
      "cell_type": "markdown",
      "metadata": {
        "id": "view-in-github",
        "colab_type": "text"
      },
      "source": [
        "<a href=\"https://colab.research.google.com/github/bushio/keras_tutorial/blob/main/notebook/cifar100.ipynb\" target=\"_parent\"><img src=\"https://colab.research.google.com/assets/colab-badge.svg\" alt=\"Open In Colab\"/></a>"
      ]
    },
    {
      "cell_type": "markdown",
      "source": [
        "# [CIFAR100](https://www.cs.toronto.edu/~kriz/cifar.html)\n",
        "- Kerasの[CIFAR100](https://keras.io/ja/datasets/)について\n",
        "\n",
        "\n"
      ],
      "metadata": {
        "id": "Kgxk2Jpv4PJC"
      }
    },
    {
      "cell_type": "code",
      "execution_count": 2,
      "metadata": {
        "id": "exiBMU491WhD"
      },
      "outputs": [],
      "source": [
        "import tensorflow as tf\n",
        "from tensorflow.keras.datasets import cifar100\n",
        "from tensorflow.keras.models import Sequential\n",
        "from tensorflow.keras.layers import Conv2D,MaxPooling2D\n",
        "from tensorflow.keras.layers import Dense, Dropout, InputLayer,Flatten\n",
        "from tensorflow.keras.optimizers import SGD\n",
        "import numpy as np"
      ]
    },
    {
      "cell_type": "markdown",
      "source": [
        "#入力パラメータの設定"
      ],
      "metadata": {
        "id": "VUzyDGjSxdmW"
      }
    },
    {
      "cell_type": "code",
      "source": [
        "input_heihgt = 32\n",
        "input_width = 32\n",
        "input_channel = 3"
      ],
      "metadata": {
        "id": "JlfYt_NtveXY"
      },
      "execution_count": 3,
      "outputs": []
    },
    {
      "cell_type": "markdown",
      "source": [
        "#データの準備"
      ],
      "metadata": {
        "id": "3VzVXUM8xaF4"
      }
    },
    {
      "cell_type": "code",
      "source": [
        "(X_train, y_train), (X_test, y_test) = cifar100.load_data()\n",
        "x_train  = X_train.astype('float32')\n",
        "x_test   = X_test.astype('float32')\n",
        "x_train /= 255\n",
        "x_test  /= 255\n",
        "y_train  = tf.keras.utils.to_categorical(y_train, 100)\n",
        "y_test   = tf.keras.utils.to_categorical(y_test, 100)"
      ],
      "metadata": {
        "id": "_vEjvrI84zoi",
        "colab": {
          "base_uri": "https://localhost:8080/"
        },
        "outputId": "ac18c21c-17b7-4002-e47c-1a8a32e91b0a"
      },
      "execution_count": 4,
      "outputs": [
        {
          "output_type": "stream",
          "name": "stdout",
          "text": [
            "Downloading data from https://www.cs.toronto.edu/~kriz/cifar-100-python.tar.gz\n",
            "169009152/169001437 [==============================] - 4s 0us/step\n",
            "169017344/169001437 [==============================] - 4s 0us/step\n"
          ]
        }
      ]
    },
    {
      "cell_type": "markdown",
      "source": [
        "#モデルの定義"
      ],
      "metadata": {
        "id": "idKzFqefxlUV"
      }
    },
    {
      "cell_type": "code",
      "source": [
        "def mnist_cnn(input_shape=(28,28,1)):\n",
        "  model = Sequential()\n",
        "  model.add(Conv2D(32, kernel_size=(3, 3), activation='relu', input_shape=input_shape))\n",
        "  model.add(Conv2D(64, (3, 3), activation='relu'))\n",
        "  model.add(MaxPooling2D(pool_size=(2, 2)))\n",
        "  model.add(Dropout(0.25))\n",
        "  model.add(Flatten())\n",
        "  model.add(Dense(128, activation='relu'))\n",
        "  model.add(Dropout(0.5))\n",
        "  model.add(Dense(100, activation='softmax'))\n",
        "  return model \n",
        "\n",
        "model = mnist_cnn((input_heihgt,input_width,input_channel))\n",
        "model.summary()"
      ],
      "metadata": {
        "id": "N5YbnvinrXnP",
        "colab": {
          "base_uri": "https://localhost:8080/"
        },
        "outputId": "069482c4-13c2-48f6-e875-df5014e83e15"
      },
      "execution_count": 5,
      "outputs": [
        {
          "output_type": "stream",
          "name": "stdout",
          "text": [
            "Model: \"sequential\"\n",
            "_________________________________________________________________\n",
            " Layer (type)                Output Shape              Param #   \n",
            "=================================================================\n",
            " conv2d (Conv2D)             (None, 30, 30, 32)        896       \n",
            "                                                                 \n",
            " conv2d_1 (Conv2D)           (None, 28, 28, 64)        18496     \n",
            "                                                                 \n",
            " max_pooling2d (MaxPooling2D  (None, 14, 14, 64)       0         \n",
            " )                                                               \n",
            "                                                                 \n",
            " dropout (Dropout)           (None, 14, 14, 64)        0         \n",
            "                                                                 \n",
            " flatten (Flatten)           (None, 12544)             0         \n",
            "                                                                 \n",
            " dense (Dense)               (None, 128)               1605760   \n",
            "                                                                 \n",
            " dropout_1 (Dropout)         (None, 128)               0         \n",
            "                                                                 \n",
            " dense_1 (Dense)             (None, 100)               12900     \n",
            "                                                                 \n",
            "=================================================================\n",
            "Total params: 1,638,052\n",
            "Trainable params: 1,638,052\n",
            "Non-trainable params: 0\n",
            "_________________________________________________________________\n"
          ]
        }
      ]
    },
    {
      "cell_type": "markdown",
      "source": [
        "#学習パラメータの設定\n",
        "- epochs: エポック数（学習データを入力する回数)\n",
        "- batch_size: バッチサイズ\n",
        "- loss: [誤差関数](https://keras.io/ja/losses/)\n",
        "- optimizer: [最適化アルゴリズム](https://keras.io/ja/optimizers/)　\n",
        "- metrics: [評価関数](https://keras.io/ja/metrics/)"
      ],
      "metadata": {
        "id": "tXcmsyevy2Qb"
      }
    },
    {
      "cell_type": "code",
      "source": [
        "epochs = 100\n",
        "batch_size = 128\n",
        "loss = 'categorical_crossentropy'\n",
        "optimizer = 'rmsprop'\n",
        "metrics = 'accuracy'"
      ],
      "metadata": {
        "id": "mniVxkGnv51R"
      },
      "execution_count": 6,
      "outputs": []
    },
    {
      "cell_type": "markdown",
      "source": [
        "#コールバック\n",
        "- [コールバック関数](https://keras.io/ja/callbacks/)"
      ],
      "metadata": {
        "id": "CPsZgrhl1Fsu"
      }
    },
    {
      "cell_type": "code",
      "source": [
        "eary_stopping = tf.keras.callbacks.EarlyStopping(monitor='val_loss', min_delta=0, patience=20, verbose=0, mode='auto')\n",
        "callbacks=[eary_stopping]"
      ],
      "metadata": {
        "id": "mtC3MJ7i1B_Q"
      },
      "execution_count": 7,
      "outputs": []
    },
    {
      "cell_type": "markdown",
      "source": [
        "#学習の実行\n",
        "\n",
        "\n"
      ],
      "metadata": {
        "id": "uxindg_-0RvT"
      }
    },
    {
      "cell_type": "code",
      "source": [
        "model.compile(loss=loss, optimizer=optimizer, metrics=[metrics])\n",
        "history = model.fit(x_train, y_train, batch_size=batch_size, epochs=epochs, verbose=1, validation_data=(x_test, y_test),callbacks=callbacks)"
      ],
      "metadata": {
        "id": "PJ09YBMDzPtv",
        "colab": {
          "base_uri": "https://localhost:8080/"
        },
        "outputId": "7be6cf12-60b8-41ad-f6cc-d2e11544a24b"
      },
      "execution_count": 8,
      "outputs": [
        {
          "output_type": "stream",
          "name": "stdout",
          "text": [
            "Epoch 1/100\n",
            "391/391 [==============================] - 17s 13ms/step - loss: 4.2293 - accuracy: 0.0616 - val_loss: 3.7491 - val_accuracy: 0.1508\n",
            "Epoch 2/100\n",
            "391/391 [==============================] - 5s 12ms/step - loss: 3.7161 - accuracy: 0.1382 - val_loss: 3.3215 - val_accuracy: 0.2302\n",
            "Epoch 3/100\n",
            "391/391 [==============================] - 5s 12ms/step - loss: 3.4297 - accuracy: 0.1822 - val_loss: 3.0597 - val_accuracy: 0.2783\n",
            "Epoch 4/100\n",
            "391/391 [==============================] - 5s 12ms/step - loss: 3.2494 - accuracy: 0.2164 - val_loss: 2.9497 - val_accuracy: 0.2943\n",
            "Epoch 5/100\n",
            "391/391 [==============================] - 5s 12ms/step - loss: 3.1019 - accuracy: 0.2389 - val_loss: 2.8978 - val_accuracy: 0.2922\n",
            "Epoch 6/100\n",
            "391/391 [==============================] - 5s 12ms/step - loss: 2.9752 - accuracy: 0.2613 - val_loss: 2.7788 - val_accuracy: 0.3137\n",
            "Epoch 7/100\n",
            "391/391 [==============================] - 5s 12ms/step - loss: 2.8884 - accuracy: 0.2773 - val_loss: 2.6770 - val_accuracy: 0.3348\n",
            "Epoch 8/100\n",
            "391/391 [==============================] - 5s 12ms/step - loss: 2.7968 - accuracy: 0.2946 - val_loss: 2.6247 - val_accuracy: 0.3475\n",
            "Epoch 9/100\n",
            "391/391 [==============================] - 5s 12ms/step - loss: 2.7219 - accuracy: 0.3106 - val_loss: 2.6769 - val_accuracy: 0.3374\n",
            "Epoch 10/100\n",
            "391/391 [==============================] - 5s 12ms/step - loss: 2.6554 - accuracy: 0.3221 - val_loss: 2.5314 - val_accuracy: 0.3608\n",
            "Epoch 11/100\n",
            "391/391 [==============================] - 5s 12ms/step - loss: 2.5896 - accuracy: 0.3354 - val_loss: 2.5298 - val_accuracy: 0.3645\n",
            "Epoch 12/100\n",
            "391/391 [==============================] - 5s 12ms/step - loss: 2.5418 - accuracy: 0.3423 - val_loss: 2.5460 - val_accuracy: 0.3591\n",
            "Epoch 13/100\n",
            "391/391 [==============================] - 5s 12ms/step - loss: 2.4807 - accuracy: 0.3600 - val_loss: 2.4826 - val_accuracy: 0.3762\n",
            "Epoch 14/100\n",
            "391/391 [==============================] - 5s 12ms/step - loss: 2.4497 - accuracy: 0.3676 - val_loss: 2.5104 - val_accuracy: 0.3688\n",
            "Epoch 15/100\n",
            "391/391 [==============================] - 5s 12ms/step - loss: 2.4063 - accuracy: 0.3747 - val_loss: 2.5809 - val_accuracy: 0.3661\n",
            "Epoch 16/100\n",
            "391/391 [==============================] - 5s 12ms/step - loss: 2.3873 - accuracy: 0.3774 - val_loss: 2.4883 - val_accuracy: 0.3750\n",
            "Epoch 17/100\n",
            "391/391 [==============================] - 5s 12ms/step - loss: 2.3510 - accuracy: 0.3866 - val_loss: 2.5061 - val_accuracy: 0.3743\n",
            "Epoch 18/100\n",
            "391/391 [==============================] - 5s 12ms/step - loss: 2.3218 - accuracy: 0.3932 - val_loss: 2.4909 - val_accuracy: 0.3801\n",
            "Epoch 19/100\n",
            "391/391 [==============================] - 5s 12ms/step - loss: 2.3009 - accuracy: 0.3967 - val_loss: 2.5520 - val_accuracy: 0.3676\n",
            "Epoch 20/100\n",
            "391/391 [==============================] - 5s 12ms/step - loss: 2.2842 - accuracy: 0.4032 - val_loss: 2.6630 - val_accuracy: 0.3492\n",
            "Epoch 21/100\n",
            "391/391 [==============================] - 5s 12ms/step - loss: 2.2626 - accuracy: 0.4073 - val_loss: 2.5467 - val_accuracy: 0.3726\n",
            "Epoch 22/100\n",
            "391/391 [==============================] - 5s 12ms/step - loss: 2.2581 - accuracy: 0.4092 - val_loss: 2.5158 - val_accuracy: 0.3742\n",
            "Epoch 23/100\n",
            "391/391 [==============================] - 5s 12ms/step - loss: 2.2495 - accuracy: 0.4100 - val_loss: 2.5387 - val_accuracy: 0.3813\n",
            "Epoch 24/100\n",
            "391/391 [==============================] - 5s 12ms/step - loss: 2.2300 - accuracy: 0.4153 - val_loss: 2.6280 - val_accuracy: 0.3731\n",
            "Epoch 25/100\n",
            "391/391 [==============================] - 5s 12ms/step - loss: 2.2335 - accuracy: 0.4154 - val_loss: 2.5699 - val_accuracy: 0.3664\n",
            "Epoch 26/100\n",
            "391/391 [==============================] - 5s 12ms/step - loss: 2.2173 - accuracy: 0.4186 - val_loss: 2.5631 - val_accuracy: 0.3640\n",
            "Epoch 27/100\n",
            "391/391 [==============================] - 5s 12ms/step - loss: 2.2207 - accuracy: 0.4160 - val_loss: 2.8618 - val_accuracy: 0.3275\n",
            "Epoch 28/100\n",
            "391/391 [==============================] - 5s 12ms/step - loss: 2.2109 - accuracy: 0.4181 - val_loss: 2.6216 - val_accuracy: 0.3746\n",
            "Epoch 29/100\n",
            "391/391 [==============================] - 5s 12ms/step - loss: 2.2118 - accuracy: 0.4201 - val_loss: 2.7052 - val_accuracy: 0.3777\n",
            "Epoch 30/100\n",
            "391/391 [==============================] - 5s 12ms/step - loss: 2.2188 - accuracy: 0.4197 - val_loss: 2.6321 - val_accuracy: 0.3534\n",
            "Epoch 31/100\n",
            "391/391 [==============================] - 5s 12ms/step - loss: 2.2013 - accuracy: 0.4267 - val_loss: 2.5759 - val_accuracy: 0.3697\n",
            "Epoch 32/100\n",
            "391/391 [==============================] - 5s 12ms/step - loss: 2.2258 - accuracy: 0.4224 - val_loss: 2.7246 - val_accuracy: 0.3769\n",
            "Epoch 33/100\n",
            "391/391 [==============================] - 5s 12ms/step - loss: 2.2115 - accuracy: 0.4239 - val_loss: 2.8244 - val_accuracy: 0.3304\n"
          ]
        }
      ]
    },
    {
      "cell_type": "markdown",
      "source": [
        "# 学習結果の検証"
      ],
      "metadata": {
        "id": "FgEISmGw0LaD"
      }
    },
    {
      "cell_type": "code",
      "source": [
        "score = model.evaluate(x_test, y_test, verbose=1)\n",
        "print('Test loss:', score[0])\n",
        "print('Test accuracy:', score[1])"
      ],
      "metadata": {
        "id": "RV-9P-Fgzl5g",
        "colab": {
          "base_uri": "https://localhost:8080/"
        },
        "outputId": "10b778b5-2e69-47be-bd7c-4164314de162"
      },
      "execution_count": 9,
      "outputs": [
        {
          "output_type": "stream",
          "name": "stdout",
          "text": [
            "313/313 [==============================] - 1s 3ms/step - loss: 2.8244 - accuracy: 0.3304\n",
            "Test loss: 2.824432611465454\n",
            "Test accuracy: 0.3303999900817871\n"
          ]
        }
      ]
    },
    {
      "cell_type": "code",
      "source": [
        "%matplotlib inline\n",
        "import matplotlib.pyplot as plt"
      ],
      "metadata": {
        "id": "P_TuNRVxTzKe"
      },
      "execution_count": 10,
      "outputs": []
    },
    {
      "cell_type": "code",
      "source": [
        "CIFAR100_LABELS_LIST = [\n",
        "                        'apple', 'aquarium_fish', 'baby', 'bear', 'beaver', 'bed', 'bee', 'beetle',\n",
        "                        'bicycle', 'bottle', 'bowl', 'boy', 'bridge', 'bus', 'butterfly', 'camel',\n",
        "                        'can', 'castle', 'caterpillar', 'cattle', 'chair', 'chimpanzee', 'clock',\n",
        "                        'cloud', 'cockroach', 'couch', 'crab', 'crocodile', 'cup', 'dinosaur',\n",
        "                        'dolphin', 'elephant', 'flatfish', 'forest', 'fox', 'girl', 'hamster',\n",
        "                        'house', 'kangaroo', 'keyboard', 'lamp', 'lawn_mower', 'leopard', 'lion',\n",
        "                        'lizard', 'lobster', 'man', 'maple_tree', 'motorcycle', 'mountain', 'mouse',\n",
        "                        'mushroom', 'oak_tree', 'orange', 'orchid', 'otter', 'palm_tree', 'pear',\n",
        "                        'pickup_truck', 'pine_tree', 'plain', 'plate', 'poppy', 'porcupine',\n",
        "                        'possum', 'rabbit', 'raccoon', 'ray', 'road', 'rocket', 'rose',\n",
        "                        'sea', 'seal', 'shark', 'shrew', 'skunk', 'skyscraper', 'snail', 'snake',\n",
        "                        'spider', 'squirrel', 'streetcar', 'sunflower', 'sweet_pepper', 'table',\n",
        "                        'tank', 'telephone', 'television', 'tiger', 'tractor', 'train', 'trout',\n",
        "                        'tulip', 'turtle', 'wardrobe', 'whale', 'willow_tree', 'wolf', 'woman',\n",
        "                        'worm'\n",
        "                        ]"
      ],
      "metadata": {
        "id": "Sr6vhpgeYsnQ"
      },
      "execution_count": 11,
      "outputs": []
    },
    {
      "cell_type": "code",
      "source": [
        "ind=np.random.randint(0,10000)\n",
        "test_img = X_test[ind]\n",
        "predict_img = x_test[ind].reshape(1,32,32,3)\n",
        "label=np.argmax(y_test[ind])\n",
        "plt.imshow(test_img)\n",
        "predictions = model.predict(predict_img)\n",
        "predicted_label=np.argmax(predictions)\n",
        "print(\"predicted label: {}\".format(CIFAR100_LABELS_LIST[predicted_label]))"
      ],
      "metadata": {
        "colab": {
          "base_uri": "https://localhost:8080/",
          "height": 320
        },
        "id": "QVV7orUcVqkZ",
        "outputId": "720baab2-b12f-4050-ebcb-96d3411b5d94"
      },
      "execution_count": 20,
      "outputs": [
        {
          "output_type": "stream",
          "name": "stdout",
          "text": [
            "(1, 32, 32, 3)\n",
            "pine_tree\n",
            "predicted label: caterpillar\n"
          ]
        },
        {
          "output_type": "display_data",
          "data": {
            "text/plain": [
              "<Figure size 432x288 with 1 Axes>"
            ],
            "image/png": "[encoded data removed]"
          },
          "metadata": {
            "needs_background": "light"
          }
        }
      ]
    },
    {
      "cell_type": "code",
      "source": [
        "test_image = 10\n",
        "for i in range(test_image):\n",
        "  ind=np.random.randint(0,10000)\n",
        "  test_img = X_test[ind]\n",
        "  predict_img = x_test[ind].reshape(1,32,32,3)\n",
        "  label=np.argmax(y_test[ind])\n",
        "  plt.imshow(test_img)\n",
        "  plt.show()\n",
        "  predictions = model.predict(predict_img)\n",
        "  predicted_label=np.argmax(predictions)\n",
        "  print(\"true label: {}\".format(CIFAR100_LABELS_LIST[label]))\n",
        "  print(\"predicted label: {}\".format(CIFAR100_LABELS_LIST[predicted_label]))\n"
      ],
      "metadata": {
        "colab": {
          "base_uri": "https://localhost:8080/",
          "height": 1000
        },
        "id": "jrmRgL0PUNgx",
        "outputId": "057ad596-16c3-49dc-a81b-950ef9dddf70"
      },
      "execution_count": 23,
      "outputs": [
        {
          "output_type": "display_data",
          "data": {
            "text/plain": [
              "<Figure size 432x288 with 1 Axes>"
            ],
            "image/png": "[encoded data removed]"
          },
          "metadata": {
            "needs_background": "light"
          }
        },
        {
          "output_type": "stream",
          "name": "stdout",
          "text": [
            "true label: camel\n",
            "predicted label: lobster\n"
          ]
        },
        {
          "output_type": "display_data",
          "data": {
            "text/plain": [
              "<Figure size 432x288 with 1 Axes>"
            ],
            "image/png": "[encoded data removed]"
          },
          "metadata": {
            "needs_background": "light"
          }
        },
        {
          "output_type": "stream",
          "name": "stdout",
          "text": [
            "true label: house\n",
            "predicted label: bus\n"
          ]
        },
        {
          "output_type": "display_data",
          "data": {
            "text/plain": [
              "<Figure size 432x288 with 1 Axes>"
            ],
            "image/png": "[encoded data removed]"
          },
          "metadata": {
            "needs_background": "light"
          }
        },
        {
          "output_type": "stream",
          "name": "stdout",
          "text": [
            "true label: keyboard\n",
            "predicted label: worm\n"
          ]
        },
        {
          "output_type": "display_data",
          "data": {
            "text/plain": [
              "<Figure size 432x288 with 1 Axes>"
            ],
            "image/png": "[encoded data removed]"
          },
          "metadata": {
            "needs_background": "light"
          }
        },
        {
          "output_type": "stream",
          "name": "stdout",
          "text": [
            "true label: telephone\n",
            "predicted label: turtle\n"
          ]
        },
        {
          "output_type": "display_data",
          "data": {
            "text/plain": [
              "<Figure size 432x288 with 1 Axes>"
            ],
            "image/png": "[encoded data removed]"
          },
          "metadata": {
            "needs_background": "light"
          }
        },
        {
          "output_type": "stream",
          "name": "stdout",
          "text": [
            "true label: lawn_mower\n",
            "predicted label: lawn_mower\n"
          ]
        },
        {
          "output_type": "display_data",
          "data": {
            "text/plain": [
              "<Figure size 432x288 with 1 Axes>"
            ],
            "image/png": "[encoded data removed]"
          },
          "metadata": {
            "needs_background": "light"
          }
        },
        {
          "output_type": "stream",
          "name": "stdout",
          "text": [
            "true label: rocket\n",
            "predicted label: rocket\n"
          ]
        },
        {
          "output_type": "display_data",
          "data": {
            "text/plain": [
              "<Figure size 432x288 with 1 Axes>"
            ],
            "image/png": "[encoded data removed]"
          },
          "metadata": {
            "needs_background": "light"
          }
        },
        {
          "output_type": "stream",
          "name": "stdout",
          "text": [
            "true label: man\n",
            "predicted label: girl\n"
          ]
        },
        {
          "output_type": "display_data",
          "data": {
            "text/plain": [
              "<Figure size 432x288 with 1 Axes>"
            ],
            "image/png": "[encoded data removed]"
          },
          "metadata": {
            "needs_background": "light"
          }
        },
        {
          "output_type": "stream",
          "name": "stdout",
          "text": [
            "true label: porcupine\n",
            "predicted label: kangaroo\n"
          ]
        },
        {
          "output_type": "display_data",
          "data": {
            "text/plain": [
              "<Figure size 432x288 with 1 Axes>"
            ],
            "image/png": "[encoded data removed]"
          },
          "metadata": {
            "needs_background": "light"
          }
        },
        {
          "output_type": "stream",
          "name": "stdout",
          "text": [
            "true label: lizard\n",
            "predicted label: bee\n"
          ]
        },
        {
          "output_type": "display_data",
          "data": {
            "text/plain": [
              "<Figure size 432x288 with 1 Axes>"
            ],
            "image/png": "[encoded data removed]"
          },
          "metadata": {
            "needs_background": "light"
          }
        },
        {
          "output_type": "stream",
          "name": "stdout",
          "text": [
            "true label: lizard\n",
            "predicted label: lizard\n"
          ]
        }
      ]
    },
    {
      "cell_type": "code",
      "source": [
        ""
      ],
      "metadata": {
        "id": "Eq3YHFM7KpQU"
      },
      "execution_count": null,
      "outputs": []
    }
  ]
}