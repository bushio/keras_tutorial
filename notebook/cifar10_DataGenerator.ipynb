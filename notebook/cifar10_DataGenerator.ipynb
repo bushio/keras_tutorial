{
  "nbformat": 4,
  "nbformat_minor": 0,
  "metadata": {
    "colab": {
      "name": "cifar10_DataGenerator.ipynb",
      "provenance": [],
      "collapsed_sections": [],
      "machine_shape": "hm",
      "include_colab_link": true
    },
    "kernelspec": {
      "name": "python3",
      "display_name": "Python 3"
    },
    "language_info": {
      "name": "python"
    },
    "accelerator": "GPU",
    "gpuClass": "standard"
  },
  "cells": [
    {
      "cell_type": "markdown",
      "metadata": {
        "id": "view-in-github",
        "colab_type": "text"
      },
      "source": [
        "<a href=\"https://colab.research.google.com/github/bushio/keras_tutorial/blob/main/notebook/cifar10_DataGenerator.ipynb\" target=\"_parent\"><img src=\"https://colab.research.google.com/assets/colab-badge.svg\" alt=\"Open In Colab\"/></a>"
      ]
    },
    {
      "cell_type": "code",
      "execution_count": null,
      "metadata": {
        "id": "XbKsRHZIcXCv"
      },
      "outputs": [],
      "source": [
        ""
      ]
    },
    {
      "cell_type": "markdown",
      "source": [
        "#本ノートの目的\n",
        "- cifar10データセットがどのようなものかを知る\n",
        "- 10クラスの画像分類でのCNNの学習を体験する\n",
        "- mnist との精度の違いを体験する。\n",
        "- Datageneratorの使い方を知る\n",
        "- データオーグメンテーションがどういうものかを知る\n",
        "- データオーグメンテーションの効果を体験する"
      ],
      "metadata": {
        "id": "rcD7Br9zVP8Z"
      }
    },
    {
      "cell_type": "markdown",
      "source": [
        "# [CIFAR10](https://www.cs.toronto.edu/~kriz/cifar.html)\n",
        "- Kerasの[CIFAR10](https://keras.io/ja/datasets/)について\n",
        "本ノートの目的"
      ],
      "metadata": {
        "id": "yx25W2KDTAhD"
      }
    },
    {
      "cell_type": "code",
      "execution_count": 1,
      "metadata": {
        "id": "exiBMU491WhD"
      },
      "outputs": [],
      "source": [
        "import tensorflow as tf\n",
        "from tensorflow.keras.datasets import cifar10\n",
        "from tensorflow.keras.models import Sequential\n",
        "from tensorflow.keras.layers import Conv2D,MaxPooling2D\n",
        "from tensorflow.keras.layers import Dense, Dropout, InputLayer,Flatten\n",
        "from tensorflow.keras.optimizers import SGD\n",
        "import numpy as np"
      ]
    },
    {
      "cell_type": "markdown",
      "source": [
        "#入力パラメータの設定\n",
        "- input_height: 入力画像の高さ\n",
        "- input_width: 入力画像の幅\n",
        "- input_channel: 入力画像のチャネル数"
      ],
      "metadata": {
        "id": "VUzyDGjSxdmW"
      }
    },
    {
      "cell_type": "code",
      "source": [
        "input_heihgt = 32\n",
        "input_width = 32\n",
        "input_channel = 3"
      ],
      "metadata": {
        "id": "JlfYt_NtveXY"
      },
      "execution_count": 2,
      "outputs": []
    },
    {
      "cell_type": "markdown",
      "source": [
        "#データの準備\n",
        "- cifar10.load_data() : CIFAR10をダウンロード、訓練データとテストデータを分割する関数\n",
        "- 前処理として入力画像の正規化(255割り)を行う\n",
        "-  tf.keras.utils.to_categorical(D, N): DをN次元のone hotな配列にする \n",
        "- 10クラス分類なため,10次元のデータにする"
      ],
      "metadata": {
        "id": "3VzVXUM8xaF4"
      }
    },
    {
      "cell_type": "code",
      "source": [
        "(X_train, y_train), (X_test, y_test) = cifar10.load_data()\n",
        "x_train  = X_train.astype('float32')\n",
        "x_test   = X_test.astype('float32')\n",
        "y_train  = tf.keras.utils.to_categorical(y_train, 10)\n",
        "y_test   = tf.keras.utils.to_categorical(y_test, 10)"
      ],
      "metadata": {
        "id": "_vEjvrI84zoi",
        "outputId": "b4be9f28-6774-481b-9087-32f7cccf8175",
        "colab": {
          "base_uri": "https://localhost:8080/"
        }
      },
      "execution_count": 3,
      "outputs": [
        {
          "output_type": "stream",
          "name": "stdout",
          "text": [
            "Downloading data from https://www.cs.toronto.edu/~kriz/cifar-10-python.tar.gz\n",
            "170500096/170498071 [==============================] - 3s 0us/step\n",
            "170508288/170498071 [==============================] - 3s 0us/step\n"
          ]
        }
      ]
    },
    {
      "cell_type": "markdown",
      "source": [
        "#モデルの定義\n",
        "- mnist と同様に下記の構造のCNNを使用する。\n",
        "  - conv2D x 2\n",
        "  - MaxPooling2D\n",
        "  - Dropout\n",
        "  - Dense\n",
        "  - Dropout\n",
        "  - Dense\n",
        "  - Softmax"
      ],
      "metadata": {
        "id": "idKzFqefxlUV"
      }
    },
    {
      "cell_type": "code",
      "source": [
        "def cifar10_cnn(input_shape=(28,28,1)):\n",
        "  model = Sequential()\n",
        "  model.add(Conv2D(32, kernel_size=(3, 3), activation='relu', input_shape=input_shape))\n",
        "  model.add(Conv2D(64, (3, 3), activation='relu'))\n",
        "  model.add(MaxPooling2D(pool_size=(2, 2)))\n",
        "  model.add(Dropout(0.25))\n",
        "  model.add(Flatten())\n",
        "  model.add(Dense(128, activation='relu'))\n",
        "  model.add(Dropout(0.5))\n",
        "  model.add(Dense(10, activation='softmax'))\n",
        "  return model \n",
        "\n",
        "model = cifar10_cnn((input_heihgt,input_width,input_channel))\n",
        "model.summary()"
      ],
      "metadata": {
        "id": "N5YbnvinrXnP",
        "colab": {
          "base_uri": "https://localhost:8080/"
        },
        "outputId": "6c32187e-1c00-4228-fe82-d27a03592e8e"
      },
      "execution_count": 4,
      "outputs": [
        {
          "output_type": "stream",
          "name": "stdout",
          "text": [
            "Model: \"sequential\"\n",
            "_________________________________________________________________\n",
            " Layer (type)                Output Shape              Param #   \n",
            "=================================================================\n",
            " conv2d (Conv2D)             (None, 30, 30, 32)        896       \n",
            "                                                                 \n",
            " conv2d_1 (Conv2D)           (None, 28, 28, 64)        18496     \n",
            "                                                                 \n",
            " max_pooling2d (MaxPooling2D  (None, 14, 14, 64)       0         \n",
            " )                                                               \n",
            "                                                                 \n",
            " dropout (Dropout)           (None, 14, 14, 64)        0         \n",
            "                                                                 \n",
            " flatten (Flatten)           (None, 12544)             0         \n",
            "                                                                 \n",
            " dense (Dense)               (None, 128)               1605760   \n",
            "                                                                 \n",
            " dropout_1 (Dropout)         (None, 128)               0         \n",
            "                                                                 \n",
            " dense_1 (Dense)             (None, 10)                1290      \n",
            "                                                                 \n",
            "=================================================================\n",
            "Total params: 1,626,442\n",
            "Trainable params: 1,626,442\n",
            "Non-trainable params: 0\n",
            "_________________________________________________________________\n"
          ]
        }
      ]
    },
    {
      "cell_type": "markdown",
      "source": [
        "#学習パラメータの設定\n",
        "- epochs: エポック数（学習データを入力する回数)\n",
        "- batch_size: バッチサイズ\n",
        "- loss: [誤差関数](https://keras.io/ja/losses/)\n",
        "- optimizer: [最適化アルゴリズム](https://keras.io/ja/optimizers/)　\n",
        "- metrics: [評価関数](https://keras.io/ja/metrics/)"
      ],
      "metadata": {
        "id": "tXcmsyevy2Qb"
      }
    },
    {
      "cell_type": "code",
      "source": [
        "epochs = 100\n",
        "batch_size = 128\n",
        "loss = 'categorical_crossentropy'\n",
        "optimizer = 'rmsprop'\n",
        "metrics = 'accuracy'"
      ],
      "metadata": {
        "id": "mniVxkGnv51R"
      },
      "execution_count": 5,
      "outputs": []
    },
    {
      "cell_type": "markdown",
      "source": [
        "#コールバック\n",
        "- [コールバック関数](https://keras.io/ja/callbacks/)"
      ],
      "metadata": {
        "id": "CPsZgrhl1Fsu"
      }
    },
    {
      "cell_type": "code",
      "source": [
        "checkpoint_filepath = '/tmp/checkpoint'\n",
        "model_checkpoint_callback = tf.keras.callbacks.ModelCheckpoint(\n",
        "    filepath=checkpoint_filepath,\n",
        "    save_weights_only=True,\n",
        "    monitor='val_accuracy',\n",
        "    mode='max',\n",
        "    save_best_only=True)\n",
        "\n",
        "eary_stopping = tf.keras.callbacks.EarlyStopping(monitor='val_loss', min_delta=0, patience=20, verbose=0, mode='auto')\n",
        "callbacks=[eary_stopping,model_checkpoint_callback]"
      ],
      "metadata": {
        "id": "mtC3MJ7i1B_Q"
      },
      "execution_count": 7,
      "outputs": []
    },
    {
      "cell_type": "markdown",
      "source": [
        "#DataGenerator の定義\n",
        "- [DataGenerator](https://www.tensorflow.org/api_docs/python/tf/keras/preprocessing/image/ImageDataGenerator) を用いた学習データの入力を行う\n",
        "- DataGenerator の役割\n",
        "  - イテレーションごとに入力バッチを作成\n",
        "  - 前処理の実行\n",
        "  - データオーグメンテーションをリアルタイムに実行\n",
        "- 実行するデータオーグメンテーション\n",
        "  - width_shift_range: ランダムな水平シフト(値はシフトする範囲)\n",
        "  - height_shift_range: ランダムな垂直シフト(値はシフトする範囲)\n",
        "  - horizontal_flip: ランダムに左右反転\n",
        "  - rotation_range: ランダムに画像を回転　（値は回転する範囲)\n",
        "- 実行する前処理:\n",
        "  - rescale: スケーリング (値を入力データに掛け合わせる)"
      ],
      "metadata": {
        "id": "KVbNquZrtDmA"
      }
    },
    {
      "cell_type": "code",
      "source": [
        "from tensorflow.keras.preprocessing.image import ImageDataGenerator\n",
        "\n",
        "train_datagen = ImageDataGenerator(\n",
        "    rescale=1./255,\n",
        "    rotation_range=20,\n",
        "    width_shift_range=0.2,\n",
        "    height_shift_range=0.2,\n",
        "    horizontal_flip=True)\n",
        "train_datagenerator = train_datagen.flow(\n",
        "    x_train,\n",
        "    y=y_train,\n",
        "    batch_size=batch_size,\n",
        "    shuffle=True\n",
        ")\n",
        "test_datagen = ImageDataGenerator(rescale=1./255)\n",
        "test_datagenerator = train_datagen.flow(\n",
        "    x_test,\n",
        "    y=y_test,\n",
        "    batch_size=8,\n",
        ")"
      ],
      "metadata": {
        "id": "nq3gVQ9Mscbd"
      },
      "execution_count": 8,
      "outputs": []
    },
    {
      "cell_type": "markdown",
      "source": [
        "#学習の実行\n",
        "\n",
        "\n"
      ],
      "metadata": {
        "id": "uxindg_-0RvT"
      }
    },
    {
      "cell_type": "code",
      "source": [
        "model.compile(loss=loss, optimizer=optimizer, metrics=[metrics])\n",
        "history = model.fit(train_datagenerator,\n",
        "         validation_data=test_datagenerator,\n",
        "         steps_per_epoch=len(x_train) / batch_size, epochs=epochs)\n"
      ],
      "metadata": {
        "id": "PJ09YBMDzPtv",
        "colab": {
          "base_uri": "https://localhost:8080/"
        },
        "outputId": "d241509f-4bff-42e2-bcec-0e30cd6826c6"
      },
      "execution_count": null,
      "outputs": [
        {
          "output_type": "stream",
          "name": "stdout",
          "text": [
            "Epoch 1/100\n",
            "390/390 [==============================] - 38s 70ms/step - loss: 1.9075 - accuracy: 0.3070 - val_loss: 1.6295 - val_accuracy: 0.4305\n",
            "Epoch 2/100\n",
            "390/390 [==============================] - 27s 70ms/step - loss: 1.6456 - accuracy: 0.4077 - val_loss: 1.4477 - val_accuracy: 0.4731\n",
            "Epoch 3/100\n",
            "390/390 [==============================] - 27s 70ms/step - loss: 1.5559 - accuracy: 0.4452 - val_loss: 1.4797 - val_accuracy: 0.4842\n",
            "Epoch 4/100\n",
            "390/390 [==============================] - 27s 69ms/step - loss: 1.4882 - accuracy: 0.4683 - val_loss: 1.3351 - val_accuracy: 0.5267\n",
            "Epoch 5/100\n",
            "390/390 [==============================] - 27s 70ms/step - loss: 1.4388 - accuracy: 0.4881 - val_loss: 1.2742 - val_accuracy: 0.5413\n",
            "Epoch 6/100\n",
            "390/390 [==============================] - 27s 70ms/step - loss: 1.4099 - accuracy: 0.4985 - val_loss: 1.3407 - val_accuracy: 0.5268\n",
            "Epoch 7/100\n",
            "390/390 [==============================] - 27s 70ms/step - loss: 1.3928 - accuracy: 0.5057 - val_loss: 1.2437 - val_accuracy: 0.5570\n",
            "Epoch 8/100\n",
            "390/390 [==============================] - 27s 70ms/step - loss: 1.3621 - accuracy: 0.5209 - val_loss: 1.2163 - val_accuracy: 0.5680\n",
            "Epoch 9/100\n",
            "390/390 [==============================] - 27s 69ms/step - loss: 1.3517 - accuracy: 0.5212 - val_loss: 1.2570 - val_accuracy: 0.5635\n",
            "Epoch 10/100\n",
            "390/390 [==============================] - 27s 70ms/step - loss: 1.3366 - accuracy: 0.5293 - val_loss: 1.2219 - val_accuracy: 0.5664\n",
            "Epoch 11/100\n",
            "227/390 [================>.............] - ETA: 8s - loss: 1.3347 - accuracy: 0.5344"
          ]
        }
      ]
    },
    {
      "cell_type": "markdown",
      "source": [
        "# 学習結果の検証"
      ],
      "metadata": {
        "id": "FgEISmGw0LaD"
      }
    },
    {
      "cell_type": "code",
      "source": [
        "score = model.evaluate(x_test, y_test, verbose=1)\n",
        "print('Test loss:', score[0])\n",
        "print('Test accuracy:', score[1])"
      ],
      "metadata": {
        "id": "RV-9P-Fgzl5g",
        "colab": {
          "base_uri": "https://localhost:8080/"
        },
        "outputId": "3296a2b9-9678-4af1-8e97-547e1fe53b14"
      },
      "execution_count": null,
      "outputs": [
        {
          "output_type": "stream",
          "name": "stdout",
          "text": [
            "313/313 [==============================] - 1s 3ms/step - loss: 0.9617 - accuracy: 0.6844\n",
            "Test loss: 0.9616636037826538\n",
            "Test accuracy: 0.6844000220298767\n"
          ]
        }
      ]
    },
    {
      "cell_type": "code",
      "source": [
        "%matplotlib inline\n",
        "import matplotlib.pyplot as plt"
      ],
      "metadata": {
        "id": "P_TuNRVxTzKe"
      },
      "execution_count": null,
      "outputs": []
    },
    {
      "cell_type": "code",
      "source": [
        "CIFAR10_LABELS_LIST = ['airplane',\n",
        "                       'automobile',\n",
        "                       'bird',\n",
        "                       'cat',\n",
        "                       'deer',\n",
        "                       'dog',\n",
        "                       'frog',\n",
        "                       'horse',\n",
        "                       'ship',\n",
        "                       'truck']"
      ],
      "metadata": {
        "id": "Sr6vhpgeYsnQ"
      },
      "execution_count": null,
      "outputs": []
    },
    {
      "cell_type": "code",
      "source": [
        "ind=np.random.randint(0,10000)\n",
        "test_img = X_test[ind]\n",
        "predict_img = x_test[ind].reshape(1,32,32,3)\n",
        "label=np.argmax(y_test[ind])\n",
        "plt.imshow(test_img)\n",
        "predictions = model.predict(predict_img)\n",
        "predicted_label=np.argmax(predictions)\n",
        "print(\"predicted label: {}\".format(CIFAR10_LABELS_LIST[predicted_label]))"
      ],
      "metadata": {
        "colab": {
          "base_uri": "https://localhost:8080/",
          "height": 284
        },
        "id": "QVV7orUcVqkZ",
        "outputId": "accc412b-c9e1-4239-8387-fc28d8cf4025"
      },
      "execution_count": null,
      "outputs": [
        {
          "output_type": "stream",
          "name": "stdout",
          "text": [
            "predicted label: truck\n"
          ]
        },
        {
          "output_type": "display_data",
          "data": {
            "text/plain": [
              "<Figure size 432x288 with 1 Axes>"
            ],
            "image/png": "[encoded data removed]"
          },
          "metadata": {
            "needs_background": "light"
          }
        }
      ]
    },
    {
      "cell_type": "code",
      "source": [
        "test_image = 10\n",
        "for i in range(test_image):\n",
        "  ind=np.random.randint(0,10000)\n",
        "  test_img = X_test[ind]\n",
        "  predict_img = x_test[ind].reshape(1,32,32,3)\n",
        "  label=np.argmax(y_test[ind])\n",
        "  plt.imshow(test_img)\n",
        "  plt.show()\n",
        "  predictions = model.predict(predict_img)\n",
        "  predicted_label=np.argmax(predictions)\n",
        "  print(\"true label: {}\".format(CIFAR10_LABELS_LIST[label]))\n",
        "  print(\"predicted label: {}\".format(CIFAR10_LABELS_LIST[predicted_label]))\n"
      ],
      "metadata": {
        "colab": {
          "base_uri": "https://localhost:8080/",
          "height": 1000
        },
        "id": "jrmRgL0PUNgx",
        "outputId": "1598a7b7-e6c1-4821-fb06-36cff118bd27"
      },
      "execution_count": null,
      "outputs": [
        {
          "output_type": "display_data",
          "data": {
            "text/plain": [
              "<Figure size 432x288 with 1 Axes>"
            ],
            "image/png": "[encoded data removed]"
          },
          "metadata": {
            "needs_background": "light"
          }
        },
        {
          "output_type": "stream",
          "name": "stdout",
          "text": [
            "true label: automobile\n",
            "predicted label: automobile\n"
          ]
        },
        {
          "output_type": "display_data",
          "data": {
            "text/plain": [
              "<Figure size 432x288 with 1 Axes>"
            ],
            "image/png": "[encoded data removed]"
          },
          "metadata": {
            "needs_background": "light"
          }
        },
        {
          "output_type": "stream",
          "name": "stdout",
          "text": [
            "true label: bird\n",
            "predicted label: bird\n"
          ]
        },
        {
          "output_type": "display_data",
          "data": {
            "text/plain": [
              "<Figure size 432x288 with 1 Axes>"
            ],
            "image/png": "[encoded data removed]"
          },
          "metadata": {
            "needs_background": "light"
          }
        },
        {
          "output_type": "stream",
          "name": "stdout",
          "text": [
            "true label: ship\n",
            "predicted label: ship\n"
          ]
        },
        {
          "output_type": "display_data",
          "data": {
            "text/plain": [
              "<Figure size 432x288 with 1 Axes>"
            ],
            "image/png": "[encoded data removed]"
          },
          "metadata": {
            "needs_background": "light"
          }
        },
        {
          "output_type": "stream",
          "name": "stdout",
          "text": [
            "true label: truck\n",
            "predicted label: truck\n"
          ]
        },
        {
          "output_type": "display_data",
          "data": {
            "text/plain": [
              "<Figure size 432x288 with 1 Axes>"
            ],
            "image/png": "[encoded data removed]"
          },
          "metadata": {
            "needs_background": "light"
          }
        },
        {
          "output_type": "stream",
          "name": "stdout",
          "text": [
            "true label: ship\n",
            "predicted label: ship\n"
          ]
        },
        {
          "output_type": "display_data",
          "data": {
            "text/plain": [
              "<Figure size 432x288 with 1 Axes>"
            ],
            "image/png": "[encoded data removed]"
          },
          "metadata": {
            "needs_background": "light"
          }
        },
        {
          "output_type": "stream",
          "name": "stdout",
          "text": [
            "true label: airplane\n",
            "predicted label: airplane\n"
          ]
        },
        {
          "output_type": "display_data",
          "data": {
            "text/plain": [
              "<Figure size 432x288 with 1 Axes>"
            ],
            "image/png": "[encoded data removed]"
          },
          "metadata": {
            "needs_background": "light"
          }
        },
        {
          "output_type": "stream",
          "name": "stdout",
          "text": [
            "true label: cat\n",
            "predicted label: cat\n"
          ]
        },
        {
          "output_type": "display_data",
          "data": {
            "text/plain": [
              "<Figure size 432x288 with 1 Axes>"
            ],
            "image/png": "[encoded data removed]"
          },
          "metadata": {
            "needs_background": "light"
          }
        },
        {
          "output_type": "stream",
          "name": "stdout",
          "text": [
            "true label: truck\n",
            "predicted label: automobile\n"
          ]
        },
        {
          "output_type": "display_data",
          "data": {
            "text/plain": [
              "<Figure size 432x288 with 1 Axes>"
            ],
            "image/png": "[encoded data removed]"
          },
          "metadata": {
            "needs_background": "light"
          }
        },
        {
          "output_type": "stream",
          "name": "stdout",
          "text": [
            "true label: deer\n",
            "predicted label: deer\n"
          ]
        },
        {
          "output_type": "display_data",
          "data": {
            "text/plain": [
              "<Figure size 432x288 with 1 Axes>"
            ],
            "image/png": "[encoded data removed]"
          },
          "metadata": {
            "needs_background": "light"
          }
        },
        {
          "output_type": "stream",
          "name": "stdout",
          "text": [
            "true label: truck\n",
            "predicted label: truck\n"
          ]
        }
      ]
    },
    {
      "cell_type": "markdown",
      "source": [
        "#考察\n",
        "- 精度: 68.4%"
      ],
      "metadata": {
        "id": "K2kWBE-AZpC8"
      }
    }
  ]
}