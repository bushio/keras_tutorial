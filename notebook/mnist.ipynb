{
  "nbformat": 4,
  "nbformat_minor": 0,
  "metadata": {
    "colab": {
      "name": "mnist.ipynb",
      "provenance": [],
      "collapsed_sections": [],
      "authorship_tag": "ABX9TyOZUkO1I9uUnRt0t6E4LDaP",
      "include_colab_link": true
    },
    "kernelspec": {
      "name": "python3",
      "display_name": "Python 3"
    },
    "language_info": {
      "name": "python"
    }
  },
  "cells": [
    {
      "cell_type": "markdown",
      "metadata": {
        "id": "view-in-github",
        "colab_type": "text"
      },
      "source": [
        "<a href=\"https://colab.research.google.com/github/bushio/keras_tutorial/blob/main/notebook/mnist.ipynb\" target=\"_parent\"><img src=\"https://colab.research.google.com/assets/colab-badge.svg\" alt=\"Open In Colab\"/></a>"
      ]
    },
    {
      "cell_type": "code",
      "execution_count": null,
      "metadata": {
        "id": "exiBMU491WhD"
      },
      "outputs": [],
      "source": [
        "import tensorflow as tf\n",
        "from tensorflow.keras.datasets import mnist\n",
        "from tensorflow.keras.models import Sequential\n",
        "from tensorflow.keras.layers import Conv2D,MaxPooling2D\n",
        "from tensorflow.keras.layers import Dense, Dropout, InputLayer,Flatten\n",
        "from tensorflow.keras.optimizers import SGD\n"
      ]
    },
    {
      "cell_type": "markdown",
      "source": [
        "#入力パラメータの設定"
      ],
      "metadata": {
        "id": "VUzyDGjSxdmW"
      }
    },
    {
      "cell_type": "code",
      "source": [
        "input_heihgt = 28\n",
        "input_width = 28\n",
        "input_channel = 1"
      ],
      "metadata": {
        "id": "JlfYt_NtveXY"
      },
      "execution_count": null,
      "outputs": []
    },
    {
      "cell_type": "markdown",
      "source": [
        "#データの準備"
      ],
      "metadata": {
        "id": "3VzVXUM8xaF4"
      }
    },
    {
      "cell_type": "code",
      "source": [
        "(x_train, y_train), (x_test, y_test) = mnist.load_data()\n",
        "x_train  = x_train.reshape(60000,input_heihgt,input_width,input_channel)\n",
        "x_test   = x_test.reshape(10000, input_heihgt,input_width,input_channel)\n",
        "x_train  = x_train.astype('float32')\n",
        "x_test   = x_test.astype('float32')\n",
        "x_train /= 255\n",
        "x_test  /= 255\n",
        "y_train  = tf.keras.utils.to_categorical(y_train, 10)\n",
        "y_test   = tf.keras.utils.to_categorical(y_test, 10)"
      ],
      "metadata": {
        "id": "_vEjvrI84zoi"
      },
      "execution_count": 26,
      "outputs": []
    },
    {
      "cell_type": "markdown",
      "source": [
        "#モデルの定義"
      ],
      "metadata": {
        "id": "idKzFqefxlUV"
      }
    },
    {
      "cell_type": "code",
      "source": [
        "def mnist_cnn(input_shape=(28,28,1)):\n",
        "  model = Sequential()\n",
        "  model.add(Conv2D(32, kernel_size=(3, 3), activation='relu', input_shape=input_shape))\n",
        "  model.add(Conv2D(64, (3, 3), activation='relu'))\n",
        "  model.add(MaxPooling2D(pool_size=(2, 2)))\n",
        "  model.add(Dropout(0.25))\n",
        "  model.add(Flatten())\n",
        "  model.add(Dense(128, activation='relu'))\n",
        "  model.add(Dropout(0.5))\n",
        "  model.add(Dense(10, activation='softmax'))\n",
        "  return model \n",
        "\n",
        "model = mnist_cnn((input_heihgt,input_width,input_channel))\n",
        "model.summary()"
      ],
      "metadata": {
        "id": "N5YbnvinrXnP",
        "colab": {
          "base_uri": "https://localhost:8080/"
        },
        "outputId": "cdcc5e5c-11dd-471a-8da1-06b3afdde6d4"
      },
      "execution_count": null,
      "outputs": [
        {
          "output_type": "stream",
          "name": "stdout",
          "text": [
            "Model: \"sequential_3\"\n",
            "_________________________________________________________________\n",
            " Layer (type)                Output Shape              Param #   \n",
            "=================================================================\n",
            " conv2d_6 (Conv2D)           (None, 26, 26, 32)        320       \n",
            "                                                                 \n",
            " conv2d_7 (Conv2D)           (None, 24, 24, 64)        18496     \n",
            "                                                                 \n",
            " max_pooling2d_2 (MaxPooling  (None, 12, 12, 64)       0         \n",
            " 2D)                                                             \n",
            "                                                                 \n",
            " dropout_4 (Dropout)         (None, 12, 12, 64)        0         \n",
            "                                                                 \n",
            " flatten_2 (Flatten)         (None, 9216)              0         \n",
            "                                                                 \n",
            " dense_4 (Dense)             (None, 128)               1179776   \n",
            "                                                                 \n",
            " dropout_5 (Dropout)         (None, 128)               0         \n",
            "                                                                 \n",
            " dense_5 (Dense)             (None, 10)                1290      \n",
            "                                                                 \n",
            "=================================================================\n",
            "Total params: 1,199,882\n",
            "Trainable params: 1,199,882\n",
            "Non-trainable params: 0\n",
            "_________________________________________________________________\n"
          ]
        }
      ]
    },
    {
      "cell_type": "markdown",
      "source": [
        "#学習パラメータの設定\n",
        "- epochs: エポック数（学習データを入力する回数)\n",
        "- batch_size: バッチサイズ\n",
        "- loss: [誤差関数](https://keras.io/ja/losses/)\n",
        "- optimizer: [最適化アルゴリズム](https://keras.io/ja/optimizers/)　\n",
        "- metrics: [評価関数](https://keras.io/ja/metrics/)"
      ],
      "metadata": {
        "id": "tXcmsyevy2Qb"
      }
    },
    {
      "cell_type": "code",
      "source": [
        "epochs = 20\n",
        "batch_size = 128\n",
        "loss = 'categorical_crossentropy'\n",
        "optimizer = 'rmsprop'\n",
        "metrics = 'accuracy'"
      ],
      "metadata": {
        "id": "mniVxkGnv51R"
      },
      "execution_count": 24,
      "outputs": []
    },
    {
      "cell_type": "markdown",
      "source": [
        "#コールバック\n",
        "- [コールバック関数](https://keras.io/ja/callbacks/)"
      ],
      "metadata": {
        "id": "CPsZgrhl1Fsu"
      }
    },
    {
      "cell_type": "code",
      "source": [
        "eary_stopping = tf.keras.callbacks.EarlyStopping(monitor='val_loss', min_delta=0, patience=0, verbose=0, mode='auto')\n",
        "callbacks=[eary_stopping]"
      ],
      "metadata": {
        "id": "mtC3MJ7i1B_Q"
      },
      "execution_count": 30,
      "outputs": []
    },
    {
      "cell_type": "markdown",
      "source": [
        ""
      ],
      "metadata": {
        "id": "K2eusu5f13s_"
      }
    },
    {
      "cell_type": "markdown",
      "source": [
        "#学習の実行\n",
        "\n",
        "\n"
      ],
      "metadata": {
        "id": "uxindg_-0RvT"
      }
    },
    {
      "cell_type": "code",
      "source": [
        "model.compile(loss=loss, optimizer=optimizer, metrics=[metrics])\n",
        "history = model.fit(x_train, y_train, batch_size=batch_size, epochs=epochs, verbose=1, validation_data=(x_test, y_test),callbacks=callbacks)"
      ],
      "metadata": {
        "id": "PJ09YBMDzPtv",
        "colab": {
          "base_uri": "https://localhost:8080/"
        },
        "outputId": "a7c28c16-06c6-41c8-de77-00129a0c53b0"
      },
      "execution_count": null,
      "outputs": [
        {
          "output_type": "stream",
          "name": "stdout",
          "text": [
            "Epoch 1/20\n",
            "118/469 [======>.......................] - ETA: 1:55 - loss: 0.0726 - accuracy: 0.9787"
          ]
        }
      ]
    },
    {
      "cell_type": "markdown",
      "source": [
        "# 学習結果の検証"
      ],
      "metadata": {
        "id": "FgEISmGw0LaD"
      }
    },
    {
      "cell_type": "code",
      "source": [
        "score = model.evaluate(x_test, y_test, verbose=1)\n",
        "print('Test loss:', score[0])\n",
        "print('Test accuracy:', score[1])"
      ],
      "metadata": {
        "id": "RV-9P-Fgzl5g"
      },
      "execution_count": null,
      "outputs": []
    }
  ]
}