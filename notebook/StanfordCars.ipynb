{
 "cells": [
  {
   "cell_type": "markdown",
   "id": "9a37ee4a",
   "metadata": {},
   "source": [
    "# Sanford Cars"
   ]
  },
  {
   "cell_type": "markdown",
   "id": "65b16c02",
   "metadata": {},
   "source": [
    "## データセットのダウンロード"
   ]
  },
  {
   "cell_type": "code",
   "execution_count": 3,
   "id": "36e782f3",
   "metadata": {},
   "outputs": [
    {
     "name": "stdout",
     "output_type": "stream",
     "text": [
      "--2022-07-27 23:08:13--  http://ai.stanford.edu/~jkrause/car196/cars_train.tgz!wget\n",
      "ai.stanford.edu (ai.stanford.edu) をDNSに問いあわせています... 171.64.68.10\n",
      "ai.stanford.edu (ai.stanford.edu)|171.64.68.10|:80 に接続しています... 接続しました。\n",
      "HTTP による接続要求を送信しました、応答を待っています... 404 Not Found\n",
      "2022-07-27 23:08:14 エラー 404: Not Found。\n",
      "\n",
      "--2022-07-27 23:08:14--  http://ai.stanford.edu/~jkrause/car196/cars_train.tgz\n",
      "ai.stanford.edu:80 への接続を再利用します。\n",
      "HTTP による接続要求を送信しました、応答を待っています... 200 OK\n",
      "長さ: 979269282 (934M) [application/x-gzip]\n",
      "`cars_train.tgz' に保存中\n",
      "\n",
      "cars_train.tgz        8%[>                   ]  77.97M  1.78MB/s    残り7m 52s   ^C\n"
     ]
    }
   ],
   "source": [
    "!wget http://ai.stanford.edu/~jkrause/car196/cars_train.tgz\n",
    "!wget http://ai.stanford.edu/~jkrause/car196/cars_test.tgz"
   ]
  },
  {
   "cell_type": "code",
   "execution_count": null,
   "id": "f3e239f8",
   "metadata": {},
   "outputs": [],
   "source": []
  }
 ],
 "metadata": {
  "kernelspec": {
   "display_name": "Python 3 (ipykernel)",
   "language": "python",
   "name": "python3"
  },
  "language_info": {
   "codemirror_mode": {
    "name": "ipython",
    "version": 3
   },
   "file_extension": ".py",
   "mimetype": "text/x-python",
   "name": "python",
   "nbconvert_exporter": "python",
   "pygments_lexer": "ipython3",
   "version": "3.7.9"
  }
 },
 "nbformat": 4,
 "nbformat_minor": 5
}
