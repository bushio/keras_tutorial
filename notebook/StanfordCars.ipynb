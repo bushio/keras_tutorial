{
 "cells": [
  {
   "cell_type": "markdown",
   "id": "297c7ac7",
   "metadata": {},
   "source": [
    "# Sanford Cars"
   ]
  },
  {
   "cell_type": "markdown",
   "id": "09b7be5a",
   "metadata": {},
   "source": [
    "## データセットのダウンロード"
   ]
  },
  {
   "cell_type": "code",
   "execution_count": 4,
   "id": "b7b87f59",
   "metadata": {},
   "outputs": [
    {
     "name": "stdout",
     "output_type": "stream",
     "text": [
      "--2022-07-27 23:12:33--  http://ai.stanford.edu/~jkrause/car196/cars_train.tgz\n",
      "ai.stanford.edu (ai.stanford.edu) をDNSに問いあわせています... 171.64.68.10\n",
      "ai.stanford.edu (ai.stanford.edu)|171.64.68.10|:80 に接続しています... 接続しました。\n",
      "HTTP による接続要求を送信しました、応答を待っています... 200 OK\n",
      "長さ: 979269282 (934M) [application/x-gzip]\n",
      "`cars_train.tgz.1' に保存中\n",
      "\n",
      "cars_train.tgz.1     99%[==================> ] 933.70M  1.43MB/s    残り0s       --2022-07-27 23:23:30--  http://ai.stanford.edu/~jkrause/car196/cars_test.tgz\n",
      "ai.stanford.edu (ai.stanford.edu) をDNSに問いあわせています... 171.64.68.10\n",
      "ai.stanford.edu (ai.stanford.edu)|171.64.68.10|:80 に接続しています... 接続しました。\n",
      "HTTP による接続要求を送信しました、応答を待っています... 200 OK\n",
      "長さ: 977350468 (932M) [application/x-gzip]\n",
      "`cars_test.tgz' に保存中\n",
      "\n",
      "cars_test.tgz       100%[===================>] 932.07M  1.94MB/s    時間 10m 9s  \n",
      "\n",
      "2022-07-27 23:33:39 (1.53 MB/s) - `cars_test.tgz' へ保存完了 [977350468/977350468]\n",
      "\n"
     ]
    }
   ],
   "source": [
    "!wget http://ai.stanford.edu/~jkrause/car196/cars_train.tgz\n",
    "!wget http://ai.stanford.edu/~jkrause/car196/cars_test.tgz"
   ]
  },
  {
   "cell_type": "code",
   "execution_count": null,
   "id": "59d54eda",
   "metadata": {},
   "outputs": [],
   "source": [
    "!pip install tensorflow-"
   ]
  },
  {
   "cell_type": "code",
   "execution_count": 1,
   "id": "efc512f8",
   "metadata": {},
   "outputs": [
    {
     "ename": "ModuleNotFoundError",
     "evalue": "No module named 'tensorflow'",
     "output_type": "error",
     "traceback": [
      "\u001b[0;31m---------------------------------------------------------------------------\u001b[0m",
      "\u001b[0;31mModuleNotFoundError\u001b[0m                       Traceback (most recent call last)",
      "\u001b[0;32m/tmp/ipykernel_4049/4000901278.py\u001b[0m in \u001b[0;36m<module>\u001b[0;34m\u001b[0m\n\u001b[0;32m----> 1\u001b[0;31m \u001b[0;32mimport\u001b[0m \u001b[0mtensorflow\u001b[0m\u001b[0;34m.\u001b[0m\u001b[0mkeras\u001b[0m\u001b[0;34m\u001b[0m\u001b[0;34m\u001b[0m\u001b[0m\n\u001b[0m",
      "\u001b[0;31mModuleNotFoundError\u001b[0m: No module named 'tensorflow'"
     ]
    }
   ],
   "source": [
    "import tensorflow.keras"
   ]
  },
  {
   "cell_type": "code",
   "execution_count": null,
   "id": "ec83554d",
   "metadata": {},
   "outputs": [],
   "source": []
  }
 ],
 "metadata": {
  "kernelspec": {
   "display_name": "Python 3 (ipykernel)",
   "language": "python",
   "name": "python3"
  },
  "language_info": {
   "codemirror_mode": {
    "name": "ipython",
    "version": 3
   },
   "file_extension": ".py",
   "mimetype": "text/x-python",
   "name": "python",
   "nbconvert_exporter": "python",
   "pygments_lexer": "ipython3",
   "version": "3.7.9"
  }
 },
 "nbformat": 4,
 "nbformat_minor": 5
}
